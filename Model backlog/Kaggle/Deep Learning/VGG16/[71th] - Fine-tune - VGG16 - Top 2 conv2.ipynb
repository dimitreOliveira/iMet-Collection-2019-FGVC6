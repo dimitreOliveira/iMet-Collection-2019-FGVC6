{
 "cells": [
  {
   "cell_type": "code",
   "execution_count": 1,
   "metadata": {
    "_kg_hide-input": true
   },
   "outputs": [
    {
     "name": "stderr",
     "output_type": "stream",
     "text": [
      "Using TensorFlow backend.\n"
     ]
    }
   ],
   "source": [
    "import os\n",
    "import cv2\n",
    "import math\n",
    "import warnings\n",
    "import numpy as np\n",
    "import pandas as pd\n",
    "import seaborn as sns\n",
    "import tensorflow as tf\n",
    "import matplotlib.pyplot as plt\n",
    "from sklearn.model_selection import train_test_split\n",
    "from sklearn.metrics import confusion_matrix, fbeta_score\n",
    "from keras import optimizers\n",
    "from keras import backend as K\n",
    "from keras.models import Sequential, Model\n",
    "from keras.applications.vgg16 import VGG16\n",
    "from keras.preprocessing.image import ImageDataGenerator\n",
    "from keras.callbacks import LearningRateScheduler, EarlyStopping\n",
    "from keras.layers import Dense, Dropout, Flatten, Conv2D, MaxPool2D, Activation, BatchNormalization, GlobalAveragePooling2D, Input\n",
    "\n",
    "# Set seeds to make the experiment more reproducible.\n",
    "from tensorflow import set_random_seed\n",
    "from numpy.random import seed\n",
    "set_random_seed(0)\n",
    "seed(0)\n",
    "\n",
    "%matplotlib inline\n",
    "sns.set(style=\"whitegrid\")\n",
    "warnings.filterwarnings(\"ignore\")"
   ]
  },
  {
   "cell_type": "code",
   "execution_count": 2,
   "metadata": {
    "_kg_hide-input": true
   },
   "outputs": [
    {
     "name": "stdout",
     "output_type": "stream",
     "text": [
      "Number of train samples:  109237\n",
      "Number of test samples:  7443\n",
      "Number of labels:  1103\n"
     ]
    },
    {
     "data": {
      "text/html": [
       "<div>\n",
       "<style scoped>\n",
       "    .dataframe tbody tr th:only-of-type {\n",
       "        vertical-align: middle;\n",
       "    }\n",
       "\n",
       "    .dataframe tbody tr th {\n",
       "        vertical-align: top;\n",
       "    }\n",
       "\n",
       "    .dataframe thead th {\n",
       "        text-align: right;\n",
       "    }\n",
       "</style>\n",
       "<table border=\"1\" class=\"dataframe\">\n",
       "  <thead>\n",
       "    <tr style=\"text-align: right;\">\n",
       "      <th></th>\n",
       "      <th>id</th>\n",
       "      <th>attribute_ids</th>\n",
       "    </tr>\n",
       "  </thead>\n",
       "  <tbody>\n",
       "    <tr>\n",
       "      <th>0</th>\n",
       "      <td>1000483014d91860.png</td>\n",
       "      <td>[147, 616, 813]</td>\n",
       "    </tr>\n",
       "    <tr>\n",
       "      <th>1</th>\n",
       "      <td>1000fe2e667721fe.png</td>\n",
       "      <td>[51, 616, 734, 813]</td>\n",
       "    </tr>\n",
       "    <tr>\n",
       "      <th>2</th>\n",
       "      <td>1001614cb89646ee.png</td>\n",
       "      <td>[776]</td>\n",
       "    </tr>\n",
       "    <tr>\n",
       "      <th>3</th>\n",
       "      <td>10041eb49b297c08.png</td>\n",
       "      <td>[51, 671, 698, 813, 1092]</td>\n",
       "    </tr>\n",
       "    <tr>\n",
       "      <th>4</th>\n",
       "      <td>100501c227f8beea.png</td>\n",
       "      <td>[13, 404, 492, 903, 1093]</td>\n",
       "    </tr>\n",
       "  </tbody>\n",
       "</table>\n",
       "</div>"
      ],
      "text/plain": [
       "                     id              attribute_ids\n",
       "0  1000483014d91860.png            [147, 616, 813]\n",
       "1  1000fe2e667721fe.png        [51, 616, 734, 813]\n",
       "2  1001614cb89646ee.png                      [776]\n",
       "3  10041eb49b297c08.png  [51, 671, 698, 813, 1092]\n",
       "4  100501c227f8beea.png  [13, 404, 492, 903, 1093]"
      ]
     },
     "metadata": {},
     "output_type": "display_data"
    },
    {
     "data": {
      "text/html": [
       "<div>\n",
       "<style scoped>\n",
       "    .dataframe tbody tr th:only-of-type {\n",
       "        vertical-align: middle;\n",
       "    }\n",
       "\n",
       "    .dataframe tbody tr th {\n",
       "        vertical-align: top;\n",
       "    }\n",
       "\n",
       "    .dataframe thead th {\n",
       "        text-align: right;\n",
       "    }\n",
       "</style>\n",
       "<table border=\"1\" class=\"dataframe\">\n",
       "  <thead>\n",
       "    <tr style=\"text-align: right;\">\n",
       "      <th></th>\n",
       "      <th>attribute_id</th>\n",
       "      <th>attribute_name</th>\n",
       "    </tr>\n",
       "  </thead>\n",
       "  <tbody>\n",
       "    <tr>\n",
       "      <th>0</th>\n",
       "      <td>0</td>\n",
       "      <td>culture::abruzzi</td>\n",
       "    </tr>\n",
       "    <tr>\n",
       "      <th>1</th>\n",
       "      <td>1</td>\n",
       "      <td>culture::achaemenid</td>\n",
       "    </tr>\n",
       "    <tr>\n",
       "      <th>2</th>\n",
       "      <td>2</td>\n",
       "      <td>culture::aegean</td>\n",
       "    </tr>\n",
       "    <tr>\n",
       "      <th>3</th>\n",
       "      <td>3</td>\n",
       "      <td>culture::afghan</td>\n",
       "    </tr>\n",
       "    <tr>\n",
       "      <th>4</th>\n",
       "      <td>4</td>\n",
       "      <td>culture::after british</td>\n",
       "    </tr>\n",
       "  </tbody>\n",
       "</table>\n",
       "</div>"
      ],
      "text/plain": [
       "   attribute_id          attribute_name\n",
       "0             0        culture::abruzzi\n",
       "1             1     culture::achaemenid\n",
       "2             2         culture::aegean\n",
       "3             3         culture::afghan\n",
       "4             4  culture::after british"
      ]
     },
     "metadata": {},
     "output_type": "display_data"
    }
   ],
   "source": [
    "train = pd.read_csv('../input/imet-2019-fgvc6/train.csv')\n",
    "labels = pd.read_csv('../input/imet-2019-fgvc6/labels.csv')\n",
    "test = pd.read_csv('../input/imet-2019-fgvc6/sample_submission.csv')\n",
    "\n",
    "train[\"attribute_ids\"] = train[\"attribute_ids\"].apply(lambda x:x.split(\" \"))\n",
    "train[\"id\"] = train[\"id\"].apply(lambda x: x + \".png\")\n",
    "test[\"id\"] = test[\"id\"].apply(lambda x: x + \".png\")\n",
    "\n",
    "print('Number of train samples: ', train.shape[0])\n",
    "print('Number of test samples: ', test.shape[0])\n",
    "print('Number of labels: ', labels.shape[0])\n",
    "display(train.head())\n",
    "display(labels.head())"
   ]
  },
  {
   "cell_type": "markdown",
   "metadata": {},
   "source": [
    "### Model parameters"
   ]
  },
  {
   "cell_type": "code",
   "execution_count": 3,
   "metadata": {},
   "outputs": [],
   "source": [
    "# Model parameters\n",
    "BATCH_SIZE = 64\n",
    "EPOCHS = 30\n",
    "LEARNING_RATE = 0.0001\n",
    "HEIGHT = 64\n",
    "WIDTH = 64\n",
    "CANAL = 3\n",
    "N_CLASSES = labels.shape[0]\n",
    "ES_PATIENCE = 15\n",
    "DECAY_DROP = 0.5\n",
    "DECAY_EPOCHS = 10\n",
    "classes = list(map(str, range(N_CLASSES)))"
   ]
  },
  {
   "cell_type": "code",
   "execution_count": 4,
   "metadata": {
    "_kg_hide-input": true
   },
   "outputs": [],
   "source": [
    "def f2_score_thr(threshold=0.5):\n",
    "    def f2_score(y_true, y_pred):\n",
    "        beta = 2\n",
    "        y_pred = K.cast(K.greater(K.clip(y_pred, 0, 1), threshold), K.floatx())\n",
    "\n",
    "        true_positives = K.sum(K.clip(y_true * y_pred, 0, 1), axis=1)\n",
    "        predicted_positives = K.sum(K.clip(y_pred, 0, 1), axis=1)\n",
    "        possible_positives = K.sum(K.clip(y_true, 0, 1), axis=1)\n",
    "\n",
    "        precision = true_positives / (predicted_positives + K.epsilon())\n",
    "        recall = true_positives / (possible_positives + K.epsilon())\n",
    "\n",
    "        return K.mean(((1+beta**2)*precision*recall) / ((beta**2)*precision+recall+K.epsilon()))\n",
    "    return f2_score\n",
    "\n",
    "\n",
    "def custom_f2(y_true, y_pred):\n",
    "    beta = 2\n",
    "\n",
    "    tp = np.sum((y_true == 1) & (y_pred == 1))\n",
    "    tn = np.sum((y_true == 0) & (y_pred == 0))\n",
    "    fp = np.sum((y_true == 0) & (y_pred == 1))\n",
    "    fn = np.sum((y_true == 1) & (y_pred == 0))\n",
    "    \n",
    "    p = tp / (tp + fp + K.epsilon())\n",
    "    r = tp / (tp + fn + K.epsilon())\n",
    "\n",
    "    f2 = (1+beta**2)*p*r / (p*beta**2 + r + 1e-15)\n",
    "\n",
    "    return f2\n",
    "\n",
    "def step_decay(epoch):\n",
    "    initial_lrate = LEARNING_RATE\n",
    "    drop = DECAY_DROP\n",
    "    epochs_drop = DECAY_EPOCHS\n",
    "    lrate = initial_lrate * math.pow(drop, math.floor((1+epoch)/epochs_drop))\n",
    "    \n",
    "    return lrate"
   ]
  },
  {
   "cell_type": "code",
   "execution_count": 5,
   "metadata": {
    "_kg_hide-input": true
   },
   "outputs": [
    {
     "name": "stdout",
     "output_type": "stream",
     "text": [
      "Found 81928 images belonging to 1103 classes.\n",
      "Found 27309 images belonging to 1103 classes.\n",
      "Found 7443 images.\n"
     ]
    }
   ],
   "source": [
    "train_datagen=ImageDataGenerator(rescale=1./255, validation_split=0.25)\n",
    "\n",
    "train_generator=train_datagen.flow_from_dataframe(\n",
    "    dataframe=train,\n",
    "    directory=\"../input/imet-2019-fgvc6/train\",\n",
    "    x_col=\"id\",\n",
    "    y_col=\"attribute_ids\",\n",
    "    batch_size=BATCH_SIZE,\n",
    "    shuffle=True,\n",
    "    class_mode=\"categorical\",\n",
    "    classes=classes,\n",
    "    target_size=(HEIGHT, WIDTH),\n",
    "    subset='training')\n",
    "\n",
    "valid_generator=train_datagen.flow_from_dataframe(\n",
    "    dataframe=train,\n",
    "    directory=\"../input/imet-2019-fgvc6/train\",\n",
    "    x_col=\"id\",\n",
    "    y_col=\"attribute_ids\",\n",
    "    batch_size=BATCH_SIZE,\n",
    "    shuffle=True,\n",
    "    class_mode=\"categorical\",    \n",
    "    classes=classes,\n",
    "    target_size=(HEIGHT, WIDTH),\n",
    "    subset='validation')\n",
    "\n",
    "test_datagen = ImageDataGenerator(rescale=1./255)\n",
    "\n",
    "test_generator = test_datagen.flow_from_dataframe(  \n",
    "        dataframe=test,\n",
    "        directory = \"../input/imet-2019-fgvc6/test\",    \n",
    "        x_col=\"id\",\n",
    "        target_size=(HEIGHT, WIDTH),\n",
    "        batch_size=1,\n",
    "        shuffle=False,\n",
    "        class_mode=None)"
   ]
  },
  {
   "cell_type": "markdown",
   "metadata": {},
   "source": [
    "### Model"
   ]
  },
  {
   "cell_type": "code",
   "execution_count": 6,
   "metadata": {},
   "outputs": [],
   "source": [
    "def create_model(input_shape, n_out):\n",
    "    input_tensor = Input(shape=input_shape)\n",
    "    base_model = VGG16(weights=None, include_top=False,\n",
    "                   input_tensor=input_tensor)\n",
    "    base_model.load_weights('../input/vgg16/vgg16_weights_tf_dim_ordering_tf_kernels_notop.h5')\n",
    "\n",
    "    x = GlobalAveragePooling2D()(base_model.output)\n",
    "    x = Dropout(0.5)(x)\n",
    "    x = Dense(1024, activation='relu')(x)\n",
    "    x = Dropout(0.5)(x)\n",
    "    final_output = Dense(n_out, activation='sigmoid', name='final_output')(x)\n",
    "    model = Model(input_tensor, final_output)\n",
    "    \n",
    "    return model"
   ]
  },
  {
   "cell_type": "code",
   "execution_count": 7,
   "metadata": {
    "_kg_hide-input": false,
    "_kg_hide-output": true
   },
   "outputs": [
    {
     "name": "stdout",
     "output_type": "stream",
     "text": [
      "WARNING:tensorflow:From /opt/conda/lib/python3.6/site-packages/tensorflow/python/framework/op_def_library.py:263: colocate_with (from tensorflow.python.framework.ops) is deprecated and will be removed in a future version.\n",
      "Instructions for updating:\n",
      "Colocations handled automatically by placer.\n",
      "WARNING:tensorflow:From /opt/conda/lib/python3.6/site-packages/keras/backend/tensorflow_backend.py:3445: calling dropout (from tensorflow.python.ops.nn_ops) with keep_prob is deprecated and will be removed in a future version.\n",
      "Instructions for updating:\n",
      "Please use `rate` instead of `keep_prob`. Rate should be set to `rate = 1 - keep_prob`.\n",
      "_________________________________________________________________\n",
      "Layer (type)                 Output Shape              Param #   \n",
      "=================================================================\n",
      "input_1 (InputLayer)         (None, 64, 64, 3)         0         \n",
      "_________________________________________________________________\n",
      "block1_conv1 (Conv2D)        (None, 64, 64, 64)        1792      \n",
      "_________________________________________________________________\n",
      "block1_conv2 (Conv2D)        (None, 64, 64, 64)        36928     \n",
      "_________________________________________________________________\n",
      "block1_pool (MaxPooling2D)   (None, 32, 32, 64)        0         \n",
      "_________________________________________________________________\n",
      "block2_conv1 (Conv2D)        (None, 32, 32, 128)       73856     \n",
      "_________________________________________________________________\n",
      "block2_conv2 (Conv2D)        (None, 32, 32, 128)       147584    \n",
      "_________________________________________________________________\n",
      "block2_pool (MaxPooling2D)   (None, 16, 16, 128)       0         \n",
      "_________________________________________________________________\n",
      "block3_conv1 (Conv2D)        (None, 16, 16, 256)       295168    \n",
      "_________________________________________________________________\n",
      "block3_conv2 (Conv2D)        (None, 16, 16, 256)       590080    \n",
      "_________________________________________________________________\n",
      "block3_conv3 (Conv2D)        (None, 16, 16, 256)       590080    \n",
      "_________________________________________________________________\n",
      "block3_pool (MaxPooling2D)   (None, 8, 8, 256)         0         \n",
      "_________________________________________________________________\n",
      "block4_conv1 (Conv2D)        (None, 8, 8, 512)         1180160   \n",
      "_________________________________________________________________\n",
      "block4_conv2 (Conv2D)        (None, 8, 8, 512)         2359808   \n",
      "_________________________________________________________________\n",
      "block4_conv3 (Conv2D)        (None, 8, 8, 512)         2359808   \n",
      "_________________________________________________________________\n",
      "block4_pool (MaxPooling2D)   (None, 4, 4, 512)         0         \n",
      "_________________________________________________________________\n",
      "block5_conv1 (Conv2D)        (None, 4, 4, 512)         2359808   \n",
      "_________________________________________________________________\n",
      "block5_conv2 (Conv2D)        (None, 4, 4, 512)         2359808   \n",
      "_________________________________________________________________\n",
      "block5_conv3 (Conv2D)        (None, 4, 4, 512)         2359808   \n",
      "_________________________________________________________________\n",
      "block5_pool (MaxPooling2D)   (None, 2, 2, 512)         0         \n",
      "_________________________________________________________________\n",
      "global_average_pooling2d_1 ( (None, 512)               0         \n",
      "_________________________________________________________________\n",
      "dropout_1 (Dropout)          (None, 512)               0         \n",
      "_________________________________________________________________\n",
      "dense_1 (Dense)              (None, 1024)              525312    \n",
      "_________________________________________________________________\n",
      "dropout_2 (Dropout)          (None, 1024)              0         \n",
      "_________________________________________________________________\n",
      "final_output (Dense)         (None, 1103)              1130575   \n",
      "=================================================================\n",
      "Total params: 16,370,575\n",
      "Trainable params: 1,655,887\n",
      "Non-trainable params: 14,714,688\n",
      "_________________________________________________________________\n"
     ]
    }
   ],
   "source": [
    "# warm up model\n",
    "# first: train only the top layers (which were randomly initialized)\n",
    "model = create_model(input_shape=(HEIGHT, WIDTH, CANAL), n_out=N_CLASSES)\n",
    "\n",
    "for layer in model.layers:\n",
    "    layer.trainable = False\n",
    "\n",
    "for i in range(-5, 0):\n",
    "    model.layers[i].trainable = True\n",
    "    \n",
    "optimizer = optimizers.Adam(lr=LEARNING_RATE)\n",
    "metrics = [\"accuracy\", \"categorical_accuracy\"]\n",
    "es = EarlyStopping(monitor='val_loss', mode='min', verbose=1, patience=ES_PATIENCE)\n",
    "callbacks = [es]\n",
    "model.compile(optimizer=optimizer, loss=\"binary_crossentropy\",  metrics=metrics)\n",
    "model.summary()"
   ]
  },
  {
   "cell_type": "markdown",
   "metadata": {},
   "source": [
    "#### Train top layers"
   ]
  },
  {
   "cell_type": "code",
   "execution_count": 8,
   "metadata": {
    "_kg_hide-input": true,
    "_kg_hide-output": true
   },
   "outputs": [
    {
     "name": "stdout",
     "output_type": "stream",
     "text": [
      "WARNING:tensorflow:From /opt/conda/lib/python3.6/site-packages/tensorflow/python/ops/math_ops.py:3066: to_int32 (from tensorflow.python.ops.math_ops) is deprecated and will be removed in a future version.\n",
      "Instructions for updating:\n",
      "Use tf.cast instead.\n",
      "Epoch 1/2\n",
      " - 536s - loss: 0.0373 - acc: 0.9902 - categorical_accuracy: 0.0449 - val_loss: 0.0146 - val_acc: 0.9971 - val_categorical_accuracy: 0.0558\n",
      "Epoch 2/2\n",
      " - 524s - loss: 0.0155 - acc: 0.9971 - categorical_accuracy: 0.0644 - val_loss: 0.0141 - val_acc: 0.9971 - val_categorical_accuracy: 0.0693\n"
     ]
    }
   ],
   "source": [
    "STEP_SIZE_TRAIN = train_generator.n//train_generator.batch_size\n",
    "STEP_SIZE_VALID = valid_generator.n//valid_generator.batch_size\n",
    "history = model.fit_generator(generator=train_generator,\n",
    "                              steps_per_epoch=STEP_SIZE_TRAIN,\n",
    "                              validation_data=valid_generator,\n",
    "                              validation_steps=STEP_SIZE_VALID,\n",
    "                              epochs=2,\n",
    "                              callbacks=callbacks,\n",
    "                              verbose=2,\n",
    "                              max_queue_size=16, workers=3, use_multiprocessing=True)"
   ]
  },
  {
   "cell_type": "markdown",
   "metadata": {},
   "source": [
    "#### Fine-tune the complete model"
   ]
  },
  {
   "cell_type": "code",
   "execution_count": 9,
   "metadata": {
    "_kg_hide-output": true
   },
   "outputs": [
    {
     "name": "stdout",
     "output_type": "stream",
     "text": [
      "_________________________________________________________________\n",
      "Layer (type)                 Output Shape              Param #   \n",
      "=================================================================\n",
      "input_1 (InputLayer)         (None, 64, 64, 3)         0         \n",
      "_________________________________________________________________\n",
      "block1_conv1 (Conv2D)        (None, 64, 64, 64)        1792      \n",
      "_________________________________________________________________\n",
      "block1_conv2 (Conv2D)        (None, 64, 64, 64)        36928     \n",
      "_________________________________________________________________\n",
      "block1_pool (MaxPooling2D)   (None, 32, 32, 64)        0         \n",
      "_________________________________________________________________\n",
      "block2_conv1 (Conv2D)        (None, 32, 32, 128)       73856     \n",
      "_________________________________________________________________\n",
      "block2_conv2 (Conv2D)        (None, 32, 32, 128)       147584    \n",
      "_________________________________________________________________\n",
      "block2_pool (MaxPooling2D)   (None, 16, 16, 128)       0         \n",
      "_________________________________________________________________\n",
      "block3_conv1 (Conv2D)        (None, 16, 16, 256)       295168    \n",
      "_________________________________________________________________\n",
      "block3_conv2 (Conv2D)        (None, 16, 16, 256)       590080    \n",
      "_________________________________________________________________\n",
      "block3_conv3 (Conv2D)        (None, 16, 16, 256)       590080    \n",
      "_________________________________________________________________\n",
      "block3_pool (MaxPooling2D)   (None, 8, 8, 256)         0         \n",
      "_________________________________________________________________\n",
      "block4_conv1 (Conv2D)        (None, 8, 8, 512)         1180160   \n",
      "_________________________________________________________________\n",
      "block4_conv2 (Conv2D)        (None, 8, 8, 512)         2359808   \n",
      "_________________________________________________________________\n",
      "block4_conv3 (Conv2D)        (None, 8, 8, 512)         2359808   \n",
      "_________________________________________________________________\n",
      "block4_pool (MaxPooling2D)   (None, 4, 4, 512)         0         \n",
      "_________________________________________________________________\n",
      "block5_conv1 (Conv2D)        (None, 4, 4, 512)         2359808   \n",
      "_________________________________________________________________\n",
      "block5_conv2 (Conv2D)        (None, 4, 4, 512)         2359808   \n",
      "_________________________________________________________________\n",
      "block5_conv3 (Conv2D)        (None, 4, 4, 512)         2359808   \n",
      "_________________________________________________________________\n",
      "block5_pool (MaxPooling2D)   (None, 2, 2, 512)         0         \n",
      "_________________________________________________________________\n",
      "global_average_pooling2d_1 ( (None, 512)               0         \n",
      "_________________________________________________________________\n",
      "dropout_1 (Dropout)          (None, 512)               0         \n",
      "_________________________________________________________________\n",
      "dense_1 (Dense)              (None, 1024)              525312    \n",
      "_________________________________________________________________\n",
      "dropout_2 (Dropout)          (None, 1024)              0         \n",
      "_________________________________________________________________\n",
      "final_output (Dense)         (None, 1103)              1130575   \n",
      "=================================================================\n",
      "Total params: 16,370,575\n",
      "Trainable params: 14,635,087\n",
      "Non-trainable params: 1,735,488\n",
      "_________________________________________________________________\n"
     ]
    }
   ],
   "source": [
    "for i in range(-13, 0):\n",
    "    model.layers[i].trainable = True\n",
    "\n",
    "metrics = [\"accuracy\", \"categorical_accuracy\"]\n",
    "lrate = LearningRateScheduler(step_decay)\n",
    "es = EarlyStopping(monitor='val_loss', mode='min', verbose=1, patience=(ES_PATIENCE))\n",
    "callbacks = [es, lrate]\n",
    "optimizer = optimizers.SGD(lr=0.0001, momentum=0.9)\n",
    "model.compile(optimizer=optimizer, loss=\"binary_crossentropy\",  metrics=metrics)\n",
    "model.summary()"
   ]
  },
  {
   "cell_type": "code",
   "execution_count": 10,
   "metadata": {
    "_kg_hide-input": true,
    "_kg_hide-output": true
   },
   "outputs": [
    {
     "name": "stdout",
     "output_type": "stream",
     "text": [
      "Epoch 1/30\n",
      " - 542s - loss: 0.0151 - acc: 0.9971 - categorical_accuracy: 0.0621 - val_loss: 0.0141 - val_acc: 0.9971 - val_categorical_accuracy: 0.0712\n",
      "Epoch 2/30\n",
      " - 552s - loss: 0.0150 - acc: 0.9971 - categorical_accuracy: 0.0640 - val_loss: 0.0141 - val_acc: 0.9971 - val_categorical_accuracy: 0.0725\n",
      "Epoch 3/30\n",
      " - 538s - loss: 0.0150 - acc: 0.9971 - categorical_accuracy: 0.0646 - val_loss: 0.0139 - val_acc: 0.9971 - val_categorical_accuracy: 0.0749\n",
      "Epoch 4/30\n",
      " - 553s - loss: 0.0150 - acc: 0.9971 - categorical_accuracy: 0.0672 - val_loss: 0.0139 - val_acc: 0.9971 - val_categorical_accuracy: 0.0762\n",
      "Epoch 5/30\n",
      " - 538s - loss: 0.0150 - acc: 0.9971 - categorical_accuracy: 0.0657 - val_loss: 0.0140 - val_acc: 0.9971 - val_categorical_accuracy: 0.0726\n",
      "Epoch 6/30\n",
      " - 536s - loss: 0.0150 - acc: 0.9971 - categorical_accuracy: 0.0670 - val_loss: 0.0140 - val_acc: 0.9971 - val_categorical_accuracy: 0.0768\n",
      "Epoch 7/30\n",
      " - 535s - loss: 0.0149 - acc: 0.9971 - categorical_accuracy: 0.0686 - val_loss: 0.0140 - val_acc: 0.9971 - val_categorical_accuracy: 0.0734\n",
      "Epoch 8/30\n",
      " - 538s - loss: 0.0150 - acc: 0.9971 - categorical_accuracy: 0.0659 - val_loss: 0.0140 - val_acc: 0.9971 - val_categorical_accuracy: 0.0763\n",
      "Epoch 9/30\n",
      " - 536s - loss: 0.0149 - acc: 0.9971 - categorical_accuracy: 0.0672 - val_loss: 0.0140 - val_acc: 0.9971 - val_categorical_accuracy: 0.0810\n",
      "Epoch 10/30\n",
      " - 534s - loss: 0.0150 - acc: 0.9971 - categorical_accuracy: 0.0698 - val_loss: 0.0140 - val_acc: 0.9971 - val_categorical_accuracy: 0.0794\n",
      "Epoch 11/30\n",
      " - 535s - loss: 0.0150 - acc: 0.9971 - categorical_accuracy: 0.0671 - val_loss: 0.0139 - val_acc: 0.9972 - val_categorical_accuracy: 0.0743\n",
      "Epoch 12/30\n",
      " - 534s - loss: 0.0149 - acc: 0.9971 - categorical_accuracy: 0.0697 - val_loss: 0.0140 - val_acc: 0.9971 - val_categorical_accuracy: 0.0789\n",
      "Epoch 13/30\n",
      " - 529s - loss: 0.0149 - acc: 0.9971 - categorical_accuracy: 0.0673 - val_loss: 0.0139 - val_acc: 0.9971 - val_categorical_accuracy: 0.0794\n",
      "Epoch 14/30\n",
      " - 530s - loss: 0.0149 - acc: 0.9971 - categorical_accuracy: 0.0672 - val_loss: 0.0140 - val_acc: 0.9971 - val_categorical_accuracy: 0.0774\n",
      "Epoch 15/30\n",
      " - 532s - loss: 0.0149 - acc: 0.9971 - categorical_accuracy: 0.0681 - val_loss: 0.0140 - val_acc: 0.9971 - val_categorical_accuracy: 0.0774\n",
      "Epoch 16/30\n",
      " - 535s - loss: 0.0149 - acc: 0.9971 - categorical_accuracy: 0.0680 - val_loss: 0.0139 - val_acc: 0.9971 - val_categorical_accuracy: 0.0828\n",
      "Epoch 17/30\n",
      " - 532s - loss: 0.0149 - acc: 0.9971 - categorical_accuracy: 0.0688 - val_loss: 0.0140 - val_acc: 0.9971 - val_categorical_accuracy: 0.0783\n",
      "Epoch 18/30\n",
      " - 529s - loss: 0.0149 - acc: 0.9971 - categorical_accuracy: 0.0671 - val_loss: 0.0139 - val_acc: 0.9971 - val_categorical_accuracy: 0.0763\n",
      "Epoch 19/30\n",
      " - 530s - loss: 0.0149 - acc: 0.9971 - categorical_accuracy: 0.0703 - val_loss: 0.0140 - val_acc: 0.9971 - val_categorical_accuracy: 0.0812\n",
      "Epoch 20/30\n",
      " - 530s - loss: 0.0149 - acc: 0.9971 - categorical_accuracy: 0.0672 - val_loss: 0.0140 - val_acc: 0.9971 - val_categorical_accuracy: 0.0796\n",
      "Epoch 21/30\n",
      " - 535s - loss: 0.0149 - acc: 0.9971 - categorical_accuracy: 0.0702 - val_loss: 0.0139 - val_acc: 0.9971 - val_categorical_accuracy: 0.0785\n",
      "Epoch 22/30\n",
      " - 531s - loss: 0.0149 - acc: 0.9971 - categorical_accuracy: 0.0682 - val_loss: 0.0139 - val_acc: 0.9971 - val_categorical_accuracy: 0.0766\n",
      "Epoch 23/30\n",
      " - 536s - loss: 0.0149 - acc: 0.9971 - categorical_accuracy: 0.0692 - val_loss: 0.0139 - val_acc: 0.9971 - val_categorical_accuracy: 0.0816\n",
      "Epoch 24/30\n",
      " - 538s - loss: 0.0149 - acc: 0.9971 - categorical_accuracy: 0.0694 - val_loss: 0.0140 - val_acc: 0.9971 - val_categorical_accuracy: 0.0796\n",
      "Epoch 25/30\n",
      " - 534s - loss: 0.0149 - acc: 0.9971 - categorical_accuracy: 0.0696 - val_loss: 0.0139 - val_acc: 0.9971 - val_categorical_accuracy: 0.0814\n",
      "Epoch 26/30\n",
      " - 532s - loss: 0.0149 - acc: 0.9971 - categorical_accuracy: 0.0686 - val_loss: 0.0140 - val_acc: 0.9971 - val_categorical_accuracy: 0.0809\n",
      "Epoch 27/30\n",
      " - 531s - loss: 0.0149 - acc: 0.9971 - categorical_accuracy: 0.0689 - val_loss: 0.0139 - val_acc: 0.9971 - val_categorical_accuracy: 0.0790\n",
      "Epoch 28/30\n",
      " - 527s - loss: 0.0149 - acc: 0.9971 - categorical_accuracy: 0.0685 - val_loss: 0.0139 - val_acc: 0.9971 - val_categorical_accuracy: 0.0806\n",
      "Epoch 29/30\n",
      " - 532s - loss: 0.0148 - acc: 0.9971 - categorical_accuracy: 0.0702 - val_loss: 0.0139 - val_acc: 0.9971 - val_categorical_accuracy: 0.0818\n",
      "Epoch 30/30\n",
      " - 530s - loss: 0.0149 - acc: 0.9971 - categorical_accuracy: 0.0701 - val_loss: 0.0139 - val_acc: 0.9971 - val_categorical_accuracy: 0.0789\n"
     ]
    }
   ],
   "source": [
    "STEP_SIZE_TRAIN = train_generator.n//train_generator.batch_size\n",
    "STEP_SIZE_VALID = valid_generator.n//valid_generator.batch_size\n",
    "\n",
    "history = model.fit_generator(generator=train_generator,\n",
    "                              steps_per_epoch=STEP_SIZE_TRAIN,\n",
    "                              validation_data=valid_generator,\n",
    "                              validation_steps=STEP_SIZE_VALID,\n",
    "                              epochs=EPOCHS,\n",
    "                              callbacks=callbacks,\n",
    "                              verbose=2,\n",
    "                              max_queue_size=16, workers=3, use_multiprocessing=True)"
   ]
  },
  {
   "cell_type": "markdown",
   "metadata": {},
   "source": [
    "### Build complete model"
   ]
  },
  {
   "cell_type": "markdown",
   "metadata": {},
   "source": [
    "### Complete model graph loss"
   ]
  },
  {
   "cell_type": "code",
   "execution_count": 11,
   "metadata": {
    "_kg_hide-input": true
   },
   "outputs": [
    {
     "data": {
      "image/png": "[encoded data removed]",
      "text/plain": [
       "<Figure size 1440x504 with 3 Axes>"
      ]
     },
     "metadata": {},
     "output_type": "display_data"
    }
   ],
   "source": [
    "sns.set_style(\"whitegrid\")\n",
    "fig, (ax1, ax2, ax3) = plt.subplots(1, 3, sharex='col', figsize=(20,7))\n",
    "\n",
    "\n",
    "ax1.plot(history.history['loss'], label='Train loss')\n",
    "ax1.plot(history.history['val_loss'], label='Validation loss')\n",
    "ax1.legend(loc='best')\n",
    "ax1.set_title('Loss')\n",
    "\n",
    "ax2.plot(history.history['acc'], label='Train Accuracy')\n",
    "ax2.plot(history.history['val_acc'], label='Validation accuracy')\n",
    "ax2.legend(loc='best')\n",
    "ax2.set_title('Accuracy')\n",
    "\n",
    "ax3.plot(history.history['categorical_accuracy'], label='Train Cat Accuracy')\n",
    "ax3.plot(history.history['val_categorical_accuracy'], label='Validation Cat Accuracy')\n",
    "ax3.legend(loc='best')\n",
    "ax3.set_title('Cat Accuracy')\n",
    "\n",
    "plt.xlabel('Epochs')\n",
    "sns.despine()\n",
    "plt.show()"
   ]
  },
  {
   "cell_type": "markdown",
   "metadata": {},
   "source": [
    "### Find best threshold value"
   ]
  },
  {
   "cell_type": "code",
   "execution_count": 12,
   "metadata": {
    "_kg_hide-input": false
   },
   "outputs": [
    {
     "name": "stdout",
     "output_type": "stream",
     "text": [
      "(27309, 1103) (27309, 1103)\n"
     ]
    }
   ],
   "source": [
    "lastFullValPred = np.empty((0, N_CLASSES))\n",
    "lastFullValLabels = np.empty((0, N_CLASSES))\n",
    "\n",
    "for i in range(STEP_SIZE_VALID+1):\n",
    "    im, lbl = next(valid_generator)\n",
    "    scores = model.predict(im, batch_size=valid_generator.batch_size)\n",
    "    lastFullValPred = np.append(lastFullValPred, scores, axis=0)\n",
    "    lastFullValLabels = np.append(lastFullValLabels, lbl, axis=0)\n",
    "    \n",
    "print(lastFullValPred.shape, lastFullValLabels.shape)"
   ]
  },
  {
   "cell_type": "code",
   "execution_count": 13,
   "metadata": {
    "_kg_hide-input": true
   },
   "outputs": [
    {
     "name": "stdout",
     "output_type": "stream",
     "text": [
      "thr=0.070 F2=0.265\n"
     ]
    },
    {
     "data": {
      "image/png": "[encoded data removed]",
      "text/plain": [
       "<Figure size 432x288 with 1 Axes>"
      ]
     },
     "metadata": {},
     "output_type": "display_data"
    }
   ],
   "source": [
    "def find_best_fixed_threshold(preds, targs, do_plot=True):\n",
    "    score = []\n",
    "    thrs = np.arange(0, 0.5, 0.01)\n",
    "    for thr in thrs:\n",
    "        score.append(custom_f2(targs, (preds > thr).astype(int)))\n",
    "    score = np.array(score)\n",
    "    pm = score.argmax()\n",
    "    best_thr, best_score = thrs[pm], score[pm].item()\n",
    "    print(f'thr={best_thr:.3f}', f'F2={best_score:.3f}')\n",
    "    if do_plot:\n",
    "        plt.plot(thrs, score)\n",
    "        plt.vlines(x=best_thr, ymin=score.min(), ymax=score.max())\n",
    "        plt.text(best_thr+0.03, best_score-0.01, f'$F_{2}=${best_score:.3f}', fontsize=14);\n",
    "        plt.show()\n",
    "    return best_thr, best_score\n",
    "\n",
    "threshold, best_score = find_best_fixed_threshold(lastFullValPred, lastFullValLabels, do_plot=True)"
   ]
  },
  {
   "cell_type": "markdown",
   "metadata": {},
   "source": [
    "### Apply model to test set and output predictions"
   ]
  },
  {
   "cell_type": "code",
   "execution_count": 14,
   "metadata": {
    "_kg_hide-input": true
   },
   "outputs": [],
   "source": [
    "test_generator.reset()\n",
    "STEP_SIZE_TEST = test_generator.n//test_generator.batch_size\n",
    "preds = model.predict_generator(test_generator, steps=STEP_SIZE_TEST)"
   ]
  },
  {
   "cell_type": "code",
   "execution_count": 15,
   "metadata": {
    "_kg_hide-input": true
   },
   "outputs": [],
   "source": [
    "predictions = []\n",
    "for pred_ar in preds:\n",
    "    valid = []\n",
    "    for idx, pred in enumerate(pred_ar):\n",
    "        if pred > threshold:\n",
    "            valid.append(idx)\n",
    "    if len(valid) == 0:\n",
    "        valid.append(np.argmax(pred_ar))\n",
    "    predictions.append(valid)"
   ]
  },
  {
   "cell_type": "code",
   "execution_count": 16,
   "metadata": {
    "_kg_hide-input": true
   },
   "outputs": [
    {
     "data": {
      "text/html": [
       "<div>\n",
       "<style scoped>\n",
       "    .dataframe tbody tr th:only-of-type {\n",
       "        vertical-align: middle;\n",
       "    }\n",
       "\n",
       "    .dataframe tbody tr th {\n",
       "        vertical-align: top;\n",
       "    }\n",
       "\n",
       "    .dataframe thead th {\n",
       "        text-align: right;\n",
       "    }\n",
       "</style>\n",
       "<table border=\"1\" class=\"dataframe\">\n",
       "  <thead>\n",
       "    <tr style=\"text-align: right;\">\n",
       "      <th></th>\n",
       "      <th>id</th>\n",
       "      <th>attribute_ids</th>\n",
       "    </tr>\n",
       "  </thead>\n",
       "  <tbody>\n",
       "    <tr>\n",
       "      <th>0</th>\n",
       "      <td>10023b2cc4ed5f68</td>\n",
       "      <td>1039 1059 121 13 161 369 79</td>\n",
       "    </tr>\n",
       "    <tr>\n",
       "      <th>1</th>\n",
       "      <td>100fbe75ed8fd887</td>\n",
       "      <td>1039 1059 121 13 147 188 194 369 489 671 744 7...</td>\n",
       "    </tr>\n",
       "    <tr>\n",
       "      <th>2</th>\n",
       "      <td>101b627524a04f19</td>\n",
       "      <td>1059 1092 121 13 147 194 552 671 79 813</td>\n",
       "    </tr>\n",
       "    <tr>\n",
       "      <th>3</th>\n",
       "      <td>10234480c41284c6</td>\n",
       "      <td>1034 1046 1092 13 147 156 189 194 51 671 813 896</td>\n",
       "    </tr>\n",
       "    <tr>\n",
       "      <th>4</th>\n",
       "      <td>1023b0e2636dcea8</td>\n",
       "      <td>1059 121 147 161 51 671 79 813</td>\n",
       "    </tr>\n",
       "    <tr>\n",
       "      <th>5</th>\n",
       "      <td>1039cd6cf85845c</td>\n",
       "      <td>1092 13 147 156 189 194 405 51 671 813 896</td>\n",
       "    </tr>\n",
       "    <tr>\n",
       "      <th>6</th>\n",
       "      <td>103a5b3f83fbe88</td>\n",
       "      <td>1034 1046 1092 13 147 156 189 194 51 671 813 896</td>\n",
       "    </tr>\n",
       "    <tr>\n",
       "      <th>7</th>\n",
       "      <td>10413aaae8d6a9a2</td>\n",
       "      <td>1034 1092 13 147 156 189 194 485 51 671 813 896</td>\n",
       "    </tr>\n",
       "    <tr>\n",
       "      <th>8</th>\n",
       "      <td>10423822b93a65ab</td>\n",
       "      <td>1092 13 147 189 194 51 671 813 896</td>\n",
       "    </tr>\n",
       "    <tr>\n",
       "      <th>9</th>\n",
       "      <td>1052bf702cb099f7</td>\n",
       "      <td>1092 13 147 189 194 51 671 780 813</td>\n",
       "    </tr>\n",
       "  </tbody>\n",
       "</table>\n",
       "</div>"
      ],
      "text/plain": [
       "                 id                                      attribute_ids\n",
       "0  10023b2cc4ed5f68                        1039 1059 121 13 161 369 79\n",
       "1  100fbe75ed8fd887  1039 1059 121 13 147 188 194 369 489 671 744 7...\n",
       "2  101b627524a04f19            1059 1092 121 13 147 194 552 671 79 813\n",
       "3  10234480c41284c6   1034 1046 1092 13 147 156 189 194 51 671 813 896\n",
       "4  1023b0e2636dcea8                     1059 121 147 161 51 671 79 813\n",
       "5   1039cd6cf85845c         1092 13 147 156 189 194 405 51 671 813 896\n",
       "6   103a5b3f83fbe88   1034 1046 1092 13 147 156 189 194 51 671 813 896\n",
       "7  10413aaae8d6a9a2    1034 1092 13 147 156 189 194 485 51 671 813 896\n",
       "8  10423822b93a65ab                 1092 13 147 189 194 51 671 813 896\n",
       "9  1052bf702cb099f7                 1092 13 147 189 194 51 671 780 813"
      ]
     },
     "execution_count": 16,
     "metadata": {},
     "output_type": "execute_result"
    }
   ],
   "source": [
    "filenames = test_generator.filenames\n",
    "label_map = {valid_generator.class_indices[k] : k for k in valid_generator.class_indices}\n",
    "\n",
    "results = pd.DataFrame({'id':filenames, 'attribute_ids':predictions})\n",
    "results['id'] = results['id'].map(lambda x: str(x)[:-4])\n",
    "results['attribute_ids'] = results['attribute_ids'].apply(lambda x: list(map(label_map.get, x)))\n",
    "results[\"attribute_ids\"] = results[\"attribute_ids\"].apply(lambda x: ' '.join(x))\n",
    "results.to_csv('submission.csv',index=False)\n",
    "results.head(10)"
   ]
  }
 ],
 "metadata": {
  "kernelspec": {
   "display_name": "Python 3",
   "language": "python",
   "name": "python3"
  },
  "language_info": {
   "codemirror_mode": {
    "name": "ipython",
    "version": 3
   },
   "file_extension": ".py",
   "mimetype": "text/x-python",
   "name": "python",
   "nbconvert_exporter": "python",
   "pygments_lexer": "ipython3",
   "version": "3.6.4"
  }
 },
 "nbformat": 4,
 "nbformat_minor": 1
}
