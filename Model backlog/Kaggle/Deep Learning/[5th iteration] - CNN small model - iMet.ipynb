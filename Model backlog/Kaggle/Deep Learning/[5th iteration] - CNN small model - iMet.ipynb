{
 "cells": [
  {
   "cell_type": "code",
   "execution_count": 1,
   "metadata": {},
   "outputs": [
    {
     "name": "stderr",
     "output_type": "stream",
     "text": [
      "Using TensorFlow backend.\n"
     ]
    }
   ],
   "source": [
    "import os\n",
    "import cv2\n",
    "import warnings\n",
    "import numpy as np\n",
    "import pandas as pd\n",
    "import seaborn as sns\n",
    "import matplotlib.pyplot as plt\n",
    "from sklearn.model_selection import train_test_split\n",
    "from sklearn.metrics import confusion_matrix\n",
    "from keras import optimizers\n",
    "from keras.models import Sequential\n",
    "from keras.preprocessing.image import ImageDataGenerator\n",
    "from keras.layers import Dense, Dropout, Flatten, Conv2D, MaxPool2D, Activation, BatchNormalization\n",
    "\n",
    "%matplotlib inline\n",
    "sns.set(style=\"whitegrid\")\n",
    "warnings.filterwarnings(\"ignore\")\n",
    "\n",
    "# Set seeds to make the experiment more reproducible.\n",
    "from tensorflow import set_random_seed\n",
    "from numpy.random import seed\n",
    "set_random_seed(0)\n",
    "seed(0)"
   ]
  },
  {
   "cell_type": "code",
   "execution_count": 2,
   "metadata": {
    "_kg_hide-input": false
   },
   "outputs": [
    {
     "name": "stdout",
     "output_type": "stream",
     "text": [
      "Number of train samples:  109237\n",
      "Number of test samples:  7443\n",
      "Number of labels:  1103\n"
     ]
    },
    {
     "data": {
      "text/html": [
       "<div>\n",
       "<style scoped>\n",
       "    .dataframe tbody tr th:only-of-type {\n",
       "        vertical-align: middle;\n",
       "    }\n",
       "\n",
       "    .dataframe tbody tr th {\n",
       "        vertical-align: top;\n",
       "    }\n",
       "\n",
       "    .dataframe thead th {\n",
       "        text-align: right;\n",
       "    }\n",
       "</style>\n",
       "<table border=\"1\" class=\"dataframe\">\n",
       "  <thead>\n",
       "    <tr style=\"text-align: right;\">\n",
       "      <th></th>\n",
       "      <th>id</th>\n",
       "      <th>attribute_ids</th>\n",
       "    </tr>\n",
       "  </thead>\n",
       "  <tbody>\n",
       "    <tr>\n",
       "      <th>0</th>\n",
       "      <td>1000483014d91860</td>\n",
       "      <td>147 616 813</td>\n",
       "    </tr>\n",
       "    <tr>\n",
       "      <th>1</th>\n",
       "      <td>1000fe2e667721fe</td>\n",
       "      <td>51 616 734 813</td>\n",
       "    </tr>\n",
       "    <tr>\n",
       "      <th>2</th>\n",
       "      <td>1001614cb89646ee</td>\n",
       "      <td>776</td>\n",
       "    </tr>\n",
       "    <tr>\n",
       "      <th>3</th>\n",
       "      <td>10041eb49b297c08</td>\n",
       "      <td>51 671 698 813 1092</td>\n",
       "    </tr>\n",
       "    <tr>\n",
       "      <th>4</th>\n",
       "      <td>100501c227f8beea</td>\n",
       "      <td>13 404 492 903 1093</td>\n",
       "    </tr>\n",
       "  </tbody>\n",
       "</table>\n",
       "</div>"
      ],
      "text/plain": [
       "                 id        attribute_ids\n",
       "0  1000483014d91860          147 616 813\n",
       "1  1000fe2e667721fe       51 616 734 813\n",
       "2  1001614cb89646ee                  776\n",
       "3  10041eb49b297c08  51 671 698 813 1092\n",
       "4  100501c227f8beea  13 404 492 903 1093"
      ]
     },
     "metadata": {},
     "output_type": "display_data"
    },
    {
     "data": {
      "text/html": [
       "<div>\n",
       "<style scoped>\n",
       "    .dataframe tbody tr th:only-of-type {\n",
       "        vertical-align: middle;\n",
       "    }\n",
       "\n",
       "    .dataframe tbody tr th {\n",
       "        vertical-align: top;\n",
       "    }\n",
       "\n",
       "    .dataframe thead th {\n",
       "        text-align: right;\n",
       "    }\n",
       "</style>\n",
       "<table border=\"1\" class=\"dataframe\">\n",
       "  <thead>\n",
       "    <tr style=\"text-align: right;\">\n",
       "      <th></th>\n",
       "      <th>attribute_id</th>\n",
       "      <th>attribute_name</th>\n",
       "    </tr>\n",
       "  </thead>\n",
       "  <tbody>\n",
       "    <tr>\n",
       "      <th>0</th>\n",
       "      <td>0</td>\n",
       "      <td>culture::abruzzi</td>\n",
       "    </tr>\n",
       "    <tr>\n",
       "      <th>1</th>\n",
       "      <td>1</td>\n",
       "      <td>culture::achaemenid</td>\n",
       "    </tr>\n",
       "    <tr>\n",
       "      <th>2</th>\n",
       "      <td>2</td>\n",
       "      <td>culture::aegean</td>\n",
       "    </tr>\n",
       "    <tr>\n",
       "      <th>3</th>\n",
       "      <td>3</td>\n",
       "      <td>culture::afghan</td>\n",
       "    </tr>\n",
       "    <tr>\n",
       "      <th>4</th>\n",
       "      <td>4</td>\n",
       "      <td>culture::after british</td>\n",
       "    </tr>\n",
       "  </tbody>\n",
       "</table>\n",
       "</div>"
      ],
      "text/plain": [
       "   attribute_id          attribute_name\n",
       "0             0        culture::abruzzi\n",
       "1             1     culture::achaemenid\n",
       "2             2         culture::aegean\n",
       "3             3         culture::afghan\n",
       "4             4  culture::after british"
      ]
     },
     "metadata": {},
     "output_type": "display_data"
    }
   ],
   "source": [
    "train = pd.read_csv('../input/train.csv')\n",
    "labels = pd.read_csv('../input/labels.csv')\n",
    "test = pd.read_csv('../input/sample_submission.csv')\n",
    "\n",
    "print('Number of train samples: ', train.shape[0])\n",
    "print('Number of test samples: ', test.shape[0])\n",
    "print('Number of labels: ', labels.shape[0])\n",
    "display(train.head())\n",
    "display(labels.head())\n",
    "\n",
    "train[\"id\"] = train[\"id\"].apply(lambda x:x+\".png\")\n",
    "test[\"id\"] = test[\"id\"].apply(lambda x:x+\".png\")"
   ]
  },
  {
   "cell_type": "markdown",
   "metadata": {},
   "source": [
    "### Model"
   ]
  },
  {
   "cell_type": "code",
   "execution_count": 3,
   "metadata": {},
   "outputs": [],
   "source": [
    "# Model parameters\n",
    "BATCH_SIZE = 64\n",
    "EPOCHS = 45\n",
    "LEARNING_RATE = 0.0001\n",
    "HEIGHT = 64\n",
    "WIDTH = 64\n",
    "CANAL = 3\n",
    "N_CLASSES = labels.shape[0]\n",
    "classes = list(map(str, range(N_CLASSES)))"
   ]
  },
  {
   "cell_type": "code",
   "execution_count": 4,
   "metadata": {},
   "outputs": [
    {
     "name": "stdout",
     "output_type": "stream",
     "text": [
      "Found 3460 images belonging to 1103 classes.\n",
      "Found 864 images belonging to 1103 classes.\n",
      "Found 7443 images.\n"
     ]
    }
   ],
   "source": [
    "train_datagen=ImageDataGenerator(rescale=1./255, validation_split=0.2)\n",
    "test_datagen = ImageDataGenerator(rescale=1./255)\n",
    "\n",
    "train_generator=train_datagen.flow_from_dataframe(\n",
    "    dataframe=train,\n",
    "    directory=\"../input/train\",\n",
    "    x_col=\"id\",\n",
    "    y_col=\"attribute_ids\",\n",
    "    batch_size=BATCH_SIZE,\n",
    "    shuffle=True,\n",
    "    class_mode=\"categorical\",\n",
    "    classes=classes,\n",
    "    target_size=(HEIGHT, WIDTH),\n",
    "    subset='training')\n",
    "\n",
    "valid_generator=train_datagen.flow_from_dataframe(\n",
    "    dataframe=train,\n",
    "    directory=\"../input/train\",\n",
    "    x_col=\"id\",\n",
    "    y_col=\"attribute_ids\",\n",
    "    batch_size=BATCH_SIZE,\n",
    "    shuffle=True,\n",
    "    class_mode=\"categorical\",    \n",
    "    classes=classes,\n",
    "    target_size=(HEIGHT, WIDTH),\n",
    "    subset='validation')\n",
    "\n",
    "test_generator = test_datagen.flow_from_dataframe(  \n",
    "        dataframe=test,\n",
    "        directory = \"../input/test\",    \n",
    "        x_col=\"id\",\n",
    "        target_size=(HEIGHT, WIDTH),\n",
    "        batch_size=1,\n",
    "        shuffle=False,\n",
    "        class_mode=None)"
   ]
  },
  {
   "cell_type": "code",
   "execution_count": 5,
   "metadata": {},
   "outputs": [
    {
     "name": "stdout",
     "output_type": "stream",
     "text": [
      "WARNING:tensorflow:From /opt/conda/lib/python3.6/site-packages/tensorflow/python/framework/op_def_library.py:263: colocate_with (from tensorflow.python.framework.ops) is deprecated and will be removed in a future version.\n",
      "Instructions for updating:\n",
      "Colocations handled automatically by placer.\n",
      "WARNING:tensorflow:From /opt/conda/lib/python3.6/site-packages/keras/backend/tensorflow_backend.py:3445: calling dropout (from tensorflow.python.ops.nn_ops) with keep_prob is deprecated and will be removed in a future version.\n",
      "Instructions for updating:\n",
      "Please use `rate` instead of `keep_prob`. Rate should be set to `rate = 1 - keep_prob`.\n"
     ]
    }
   ],
   "source": [
    "model = Sequential()\n",
    "\n",
    "model.add(Conv2D(32, (3, 3), padding='same', input_shape=(HEIGHT, WIDTH, CANAL)))\n",
    "model.add(Activation('relu'))\n",
    "\n",
    "model.add(Conv2D(32, (3, 3)))\n",
    "model.add(Activation('relu'))\n",
    "model.add(MaxPool2D(pool_size=(2, 2)))\n",
    "model.add(Dropout(0.25))\n",
    "\n",
    "model.add(Conv2D(64, (3, 3), padding='same'))\n",
    "model.add(Activation('relu'))\n",
    "\n",
    "model.add(Conv2D(64, (3, 3)))\n",
    "model.add(Activation('relu'))\n",
    "model.add(MaxPool2D(pool_size=(2, 2)))\n",
    "model.add(Dropout(0.25))\n",
    "\n",
    "model.add(Flatten())\n",
    "\n",
    "model.add(Dense(1024))\n",
    "model.add(Activation('relu'))\n",
    "model.add(Dropout(0.5))\n",
    "model.add(Dense(N_CLASSES, activation=\"sigmoid\"))\n",
    "\n",
    "optimizer = optimizers.adam(lr=LEARNING_RATE)\n",
    "model.compile(optimizer=optimizer, loss=\"binary_crossentropy\",metrics=[\"accuracy\", \"categorical_accuracy\"])"
   ]
  },
  {
   "cell_type": "code",
   "execution_count": 6,
   "metadata": {
    "_kg_hide-output": true
   },
   "outputs": [
    {
     "name": "stdout",
     "output_type": "stream",
     "text": [
      "WARNING:tensorflow:From /opt/conda/lib/python3.6/site-packages/tensorflow/python/ops/math_ops.py:3066: to_int32 (from tensorflow.python.ops.math_ops) is deprecated and will be removed in a future version.\n",
      "Instructions for updating:\n",
      "Use tf.cast instead.\n",
      "Epoch 1/45\n",
      " - 27s - loss: 0.2210 - acc: 0.9015 - categorical_accuracy: 0.0026 - val_loss: 0.0095 - val_acc: 0.9991 - val_categorical_accuracy: 0.0577\n",
      "Epoch 2/45\n",
      " - 18s - loss: 0.0129 - acc: 0.9982 - categorical_accuracy: 0.0101 - val_loss: 0.0074 - val_acc: 0.9991 - val_categorical_accuracy: 0.0850\n",
      "Epoch 3/45\n",
      " - 18s - loss: 0.0108 - acc: 0.9986 - categorical_accuracy: 0.0142 - val_loss: 0.0069 - val_acc: 0.9991 - val_categorical_accuracy: 0.0925\n",
      "Epoch 4/45\n",
      " - 18s - loss: 0.0096 - acc: 0.9988 - categorical_accuracy: 0.0159 - val_loss: 0.0065 - val_acc: 0.9991 - val_categorical_accuracy: 0.1163\n",
      "Epoch 5/45\n",
      " - 18s - loss: 0.0087 - acc: 0.9989 - categorical_accuracy: 0.0213 - val_loss: 0.0062 - val_acc: 0.9991 - val_categorical_accuracy: 0.0587\n",
      "Epoch 6/45\n",
      " - 18s - loss: 0.0082 - acc: 0.9989 - categorical_accuracy: 0.0214 - val_loss: 0.0063 - val_acc: 0.9991 - val_categorical_accuracy: 0.0838\n",
      "Epoch 7/45\n",
      " - 18s - loss: 0.0077 - acc: 0.9990 - categorical_accuracy: 0.0304 - val_loss: 0.0063 - val_acc: 0.9991 - val_categorical_accuracy: 0.0762\n",
      "Epoch 8/45\n",
      " - 18s - loss: 0.0074 - acc: 0.9990 - categorical_accuracy: 0.0342 - val_loss: 0.0063 - val_acc: 0.9991 - val_categorical_accuracy: 0.1000\n",
      "Epoch 9/45\n",
      " - 18s - loss: 0.0071 - acc: 0.9990 - categorical_accuracy: 0.0448 - val_loss: 0.0063 - val_acc: 0.9991 - val_categorical_accuracy: 0.1225\n",
      "Epoch 10/45\n",
      " - 19s - loss: 0.0069 - acc: 0.9990 - categorical_accuracy: 0.0517 - val_loss: 0.0063 - val_acc: 0.9991 - val_categorical_accuracy: 0.1200\n",
      "Epoch 11/45\n",
      " - 19s - loss: 0.0067 - acc: 0.9991 - categorical_accuracy: 0.0538 - val_loss: 0.0063 - val_acc: 0.9991 - val_categorical_accuracy: 0.1187\n",
      "Epoch 12/45\n",
      " - 18s - loss: 0.0065 - acc: 0.9991 - categorical_accuracy: 0.0541 - val_loss: 0.0065 - val_acc: 0.9991 - val_categorical_accuracy: 0.1338\n",
      "Epoch 13/45\n",
      " - 18s - loss: 0.0063 - acc: 0.9991 - categorical_accuracy: 0.0721 - val_loss: 0.0067 - val_acc: 0.9991 - val_categorical_accuracy: 0.1300\n",
      "Epoch 14/45\n",
      " - 18s - loss: 0.0063 - acc: 0.9991 - categorical_accuracy: 0.0721 - val_loss: 0.0070 - val_acc: 0.9991 - val_categorical_accuracy: 0.1263\n",
      "Epoch 15/45\n",
      " - 18s - loss: 0.0062 - acc: 0.9991 - categorical_accuracy: 0.0770 - val_loss: 0.0069 - val_acc: 0.9991 - val_categorical_accuracy: 0.1358\n",
      "Epoch 16/45\n",
      " - 18s - loss: 0.0060 - acc: 0.9991 - categorical_accuracy: 0.0870 - val_loss: 0.0068 - val_acc: 0.9991 - val_categorical_accuracy: 0.1425\n",
      "Epoch 17/45\n",
      " - 18s - loss: 0.0060 - acc: 0.9991 - categorical_accuracy: 0.0868 - val_loss: 0.0062 - val_acc: 0.9991 - val_categorical_accuracy: 0.1550\n",
      "Epoch 18/45\n",
      " - 18s - loss: 0.0059 - acc: 0.9991 - categorical_accuracy: 0.0940 - val_loss: 0.0065 - val_acc: 0.9991 - val_categorical_accuracy: 0.1625\n",
      "Epoch 19/45\n",
      " - 18s - loss: 0.0058 - acc: 0.9991 - categorical_accuracy: 0.0949 - val_loss: 0.0068 - val_acc: 0.9991 - val_categorical_accuracy: 0.1487\n",
      "Epoch 20/45\n",
      " - 18s - loss: 0.0057 - acc: 0.9991 - categorical_accuracy: 0.1039 - val_loss: 0.0066 - val_acc: 0.9991 - val_categorical_accuracy: 0.1588\n",
      "Epoch 21/45\n",
      " - 18s - loss: 0.0057 - acc: 0.9991 - categorical_accuracy: 0.1059 - val_loss: 0.0065 - val_acc: 0.9991 - val_categorical_accuracy: 0.1638\n",
      "Epoch 22/45\n",
      " - 18s - loss: 0.0056 - acc: 0.9991 - categorical_accuracy: 0.1195 - val_loss: 0.0061 - val_acc: 0.9991 - val_categorical_accuracy: 0.1638\n",
      "Epoch 23/45\n",
      " - 18s - loss: 0.0056 - acc: 0.9991 - categorical_accuracy: 0.1143 - val_loss: 0.0065 - val_acc: 0.9991 - val_categorical_accuracy: 0.1675\n",
      "Epoch 24/45\n",
      " - 18s - loss: 0.0054 - acc: 0.9991 - categorical_accuracy: 0.1305 - val_loss: 0.0060 - val_acc: 0.9991 - val_categorical_accuracy: 0.1988\n",
      "Epoch 25/45\n",
      " - 18s - loss: 0.0053 - acc: 0.9991 - categorical_accuracy: 0.1314 - val_loss: 0.0064 - val_acc: 0.9991 - val_categorical_accuracy: 0.1675\n",
      "Epoch 26/45\n",
      " - 18s - loss: 0.0054 - acc: 0.9991 - categorical_accuracy: 0.1389 - val_loss: 0.0058 - val_acc: 0.9992 - val_categorical_accuracy: 0.1888\n",
      "Epoch 27/45\n",
      " - 18s - loss: 0.0052 - acc: 0.9991 - categorical_accuracy: 0.1394 - val_loss: 0.0058 - val_acc: 0.9991 - val_categorical_accuracy: 0.1888\n",
      "Epoch 28/45\n",
      " - 18s - loss: 0.0052 - acc: 0.9991 - categorical_accuracy: 0.1499 - val_loss: 0.0058 - val_acc: 0.9991 - val_categorical_accuracy: 0.1850\n",
      "Epoch 29/45\n",
      " - 18s - loss: 0.0052 - acc: 0.9991 - categorical_accuracy: 0.1479 - val_loss: 0.0059 - val_acc: 0.9991 - val_categorical_accuracy: 0.1875\n",
      "Epoch 30/45\n",
      " - 18s - loss: 0.0050 - acc: 0.9991 - categorical_accuracy: 0.1627 - val_loss: 0.0056 - val_acc: 0.9991 - val_categorical_accuracy: 0.1988\n",
      "Epoch 31/45\n",
      " - 18s - loss: 0.0050 - acc: 0.9991 - categorical_accuracy: 0.1740 - val_loss: 0.0057 - val_acc: 0.9991 - val_categorical_accuracy: 0.1925\n",
      "Epoch 32/45\n",
      " - 18s - loss: 0.0049 - acc: 0.9991 - categorical_accuracy: 0.1842 - val_loss: 0.0059 - val_acc: 0.9991 - val_categorical_accuracy: 0.2050\n",
      "Epoch 33/45\n",
      " - 18s - loss: 0.0048 - acc: 0.9991 - categorical_accuracy: 0.1906 - val_loss: 0.0059 - val_acc: 0.9992 - val_categorical_accuracy: 0.2000\n",
      "Epoch 34/45\n",
      " - 18s - loss: 0.0048 - acc: 0.9991 - categorical_accuracy: 0.1912 - val_loss: 0.0058 - val_acc: 0.9991 - val_categorical_accuracy: 0.2162\n",
      "Epoch 35/45\n",
      " - 18s - loss: 0.0048 - acc: 0.9991 - categorical_accuracy: 0.1907 - val_loss: 0.0056 - val_acc: 0.9991 - val_categorical_accuracy: 0.2175\n",
      "Epoch 36/45\n",
      " - 18s - loss: 0.0047 - acc: 0.9991 - categorical_accuracy: 0.2000 - val_loss: 0.0054 - val_acc: 0.9991 - val_categorical_accuracy: 0.2025\n",
      "Epoch 37/45\n",
      " - 18s - loss: 0.0046 - acc: 0.9991 - categorical_accuracy: 0.2057 - val_loss: 0.0053 - val_acc: 0.9991 - val_categorical_accuracy: 0.2125\n",
      "Epoch 38/45\n",
      " - 18s - loss: 0.0046 - acc: 0.9991 - categorical_accuracy: 0.2038 - val_loss: 0.0052 - val_acc: 0.9992 - val_categorical_accuracy: 0.1913\n",
      "Epoch 39/45\n",
      " - 19s - loss: 0.0045 - acc: 0.9991 - categorical_accuracy: 0.2294 - val_loss: 0.0053 - val_acc: 0.9992 - val_categorical_accuracy: 0.2288\n",
      "Epoch 40/45\n",
      " - 18s - loss: 0.0044 - acc: 0.9991 - categorical_accuracy: 0.2294 - val_loss: 0.0053 - val_acc: 0.9991 - val_categorical_accuracy: 0.2037\n",
      "Epoch 41/45\n",
      " - 18s - loss: 0.0043 - acc: 0.9991 - categorical_accuracy: 0.2321 - val_loss: 0.0050 - val_acc: 0.9992 - val_categorical_accuracy: 0.2200\n",
      "Epoch 42/45\n",
      " - 18s - loss: 0.0043 - acc: 0.9991 - categorical_accuracy: 0.2519 - val_loss: 0.0049 - val_acc: 0.9991 - val_categorical_accuracy: 0.2150\n",
      "Epoch 43/45\n",
      " - 18s - loss: 0.0042 - acc: 0.9991 - categorical_accuracy: 0.2560 - val_loss: 0.0051 - val_acc: 0.9992 - val_categorical_accuracy: 0.2260\n",
      "Epoch 44/45\n",
      " - 19s - loss: 0.0041 - acc: 0.9992 - categorical_accuracy: 0.2530 - val_loss: 0.0051 - val_acc: 0.9991 - val_categorical_accuracy: 0.2288\n",
      "Epoch 45/45\n",
      " - 18s - loss: 0.0040 - acc: 0.9992 - categorical_accuracy: 0.2643 - val_loss: 0.0051 - val_acc: 0.9991 - val_categorical_accuracy: 0.2000\n"
     ]
    }
   ],
   "source": [
    "STEP_SIZE_TRAIN = train_generator.n//train_generator.batch_size\n",
    "STEP_SIZE_VALID = valid_generator.n//valid_generator.batch_size\n",
    "history = model.fit_generator(generator=train_generator,\n",
    "                                steps_per_epoch=STEP_SIZE_TRAIN,\n",
    "                                validation_data=valid_generator,\n",
    "                                validation_steps=STEP_SIZE_VALID,\n",
    "                                epochs=EPOCHS,\n",
    "                                verbose=2)"
   ]
  },
  {
   "cell_type": "markdown",
   "metadata": {},
   "source": [
    "### Model graph loss"
   ]
  },
  {
   "cell_type": "code",
   "execution_count": 7,
   "metadata": {
    "_kg_hide-input": true
   },
   "outputs": [
    {
     "data": {
      "image/png": "[encoded data removed]",
      "text/plain": [
       "<Figure size 1440x504 with 3 Axes>"
      ]
     },
     "metadata": {},
     "output_type": "display_data"
    }
   ],
   "source": [
    "sns.set_style(\"whitegrid\")\n",
    "fig, (ax1, ax2, ax3) = plt.subplots(1, 3, sharex='col', figsize=(20,7))\n",
    "\n",
    "\n",
    "ax1.plot(history.history['loss'], label='Train loss')\n",
    "ax1.plot(history.history['val_loss'], label='Validation loss')\n",
    "ax1.legend(loc='best')\n",
    "ax1.set_title('Loss')\n",
    "\n",
    "ax2.plot(history.history['acc'], label='Train Accuracy')\n",
    "ax2.plot(history.history['val_acc'], label='Validation accuracy')\n",
    "ax2.legend(loc='best')\n",
    "ax2.set_title('Accuracy')\n",
    "\n",
    "ax3.plot(history.history['categorical_accuracy'], label='Train Cat Accuracy')\n",
    "ax3.plot(history.history['val_categorical_accuracy'], label='Validation Cat Accuracy')\n",
    "ax3.legend(loc='best')\n",
    "ax3.set_title('Cat Accuracy')\n",
    "\n",
    "plt.xlabel('Epochs')\n",
    "sns.despine()\n",
    "plt.show()"
   ]
  },
  {
   "cell_type": "markdown",
   "metadata": {},
   "source": [
    "### Apply model to test set and output predictions"
   ]
  },
  {
   "cell_type": "code",
   "execution_count": 8,
   "metadata": {},
   "outputs": [],
   "source": [
    "test_generator.reset()\n",
    "STEP_SIZE_TEST = test_generator.n//test_generator.batch_size\n",
    "preds = model.predict_generator(test_generator, steps=STEP_SIZE_TEST)"
   ]
  },
  {
   "cell_type": "code",
   "execution_count": 9,
   "metadata": {},
   "outputs": [],
   "source": [
    "labels = (train_generator.class_indices)\n",
    "labels = dict((v,k) for k,v in labels.items())\n",
    "\n",
    "predictions = []\n",
    "for pred_ar in preds:\n",
    "    valid = ''\n",
    "    for idx, pred in enumerate(pred_ar):\n",
    "        if pred > 0.28:\n",
    "            if len(valid) == 0:\n",
    "                valid += labels[idx]\n",
    "            else:\n",
    "                valid += (' %s' % labels[idx])\n",
    "    if len(valid) == 0:\n",
    "        valid = np.argmax(pred_ar)\n",
    "    predictions.append(valid)"
   ]
  },
  {
   "cell_type": "code",
   "execution_count": 10,
   "metadata": {},
   "outputs": [
    {
     "data": {
      "text/html": [
       "<div>\n",
       "<style scoped>\n",
       "    .dataframe tbody tr th:only-of-type {\n",
       "        vertical-align: middle;\n",
       "    }\n",
       "\n",
       "    .dataframe tbody tr th {\n",
       "        vertical-align: top;\n",
       "    }\n",
       "\n",
       "    .dataframe thead th {\n",
       "        text-align: right;\n",
       "    }\n",
       "</style>\n",
       "<table border=\"1\" class=\"dataframe\">\n",
       "  <thead>\n",
       "    <tr style=\"text-align: right;\">\n",
       "      <th></th>\n",
       "      <th>id</th>\n",
       "      <th>attribute_ids</th>\n",
       "    </tr>\n",
       "  </thead>\n",
       "  <tbody>\n",
       "    <tr>\n",
       "      <th>0</th>\n",
       "      <td>10023b2cc4ed5f68</td>\n",
       "      <td>129</td>\n",
       "    </tr>\n",
       "    <tr>\n",
       "      <th>1</th>\n",
       "      <td>100fbe75ed8fd887</td>\n",
       "      <td>68</td>\n",
       "    </tr>\n",
       "    <tr>\n",
       "      <th>2</th>\n",
       "      <td>101b627524a04f19</td>\n",
       "      <td>897</td>\n",
       "    </tr>\n",
       "    <tr>\n",
       "      <th>3</th>\n",
       "      <td>10234480c41284c6</td>\n",
       "      <td>54</td>\n",
       "    </tr>\n",
       "    <tr>\n",
       "      <th>4</th>\n",
       "      <td>1023b0e2636dcea8</td>\n",
       "      <td>68</td>\n",
       "    </tr>\n",
       "    <tr>\n",
       "      <th>5</th>\n",
       "      <td>1039cd6cf85845c</td>\n",
       "      <td>1092</td>\n",
       "    </tr>\n",
       "    <tr>\n",
       "      <th>6</th>\n",
       "      <td>103a5b3f83fbe88</td>\n",
       "      <td>54</td>\n",
       "    </tr>\n",
       "    <tr>\n",
       "      <th>7</th>\n",
       "      <td>10413aaae8d6a9a2</td>\n",
       "      <td>54</td>\n",
       "    </tr>\n",
       "    <tr>\n",
       "      <th>8</th>\n",
       "      <td>10423822b93a65ab</td>\n",
       "      <td>551</td>\n",
       "    </tr>\n",
       "    <tr>\n",
       "      <th>9</th>\n",
       "      <td>1052bf702cb099f7</td>\n",
       "      <td>744</td>\n",
       "    </tr>\n",
       "  </tbody>\n",
       "</table>\n",
       "</div>"
      ],
      "text/plain": [
       "                 id attribute_ids\n",
       "0  10023b2cc4ed5f68           129\n",
       "1  100fbe75ed8fd887            68\n",
       "2  101b627524a04f19           897\n",
       "3  10234480c41284c6            54\n",
       "4  1023b0e2636dcea8            68\n",
       "5   1039cd6cf85845c          1092\n",
       "6   103a5b3f83fbe88            54\n",
       "7  10413aaae8d6a9a2            54\n",
       "8  10423822b93a65ab           551\n",
       "9  1052bf702cb099f7           744"
      ]
     },
     "execution_count": 10,
     "metadata": {},
     "output_type": "execute_result"
    }
   ],
   "source": [
    "filenames = test_generator.filenames\n",
    "results = pd.DataFrame({'id':filenames, 'attribute_ids':predictions})\n",
    "results['id'] = results['id'].map(lambda x: str(x)[:-4])\n",
    "results.to_csv('submission.csv',index=False)\n",
    "results.head(10)"
   ]
  }
 ],
 "metadata": {
  "kernelspec": {
   "display_name": "Python 3",
   "language": "python",
   "name": "python3"
  },
  "language_info": {
   "codemirror_mode": {
    "name": "ipython",
    "version": 3
   },
   "file_extension": ".py",
   "mimetype": "text/x-python",
   "name": "python",
   "nbconvert_exporter": "python",
   "pygments_lexer": "ipython3",
   "version": "3.6.4"
  }
 },
 "nbformat": 4,
 "nbformat_minor": 1
}
